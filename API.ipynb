{
 "cells": [
  {
   "cell_type": "code",
   "execution_count": 1,
   "metadata": {},
   "outputs": [
    {
     "name": "stdout",
     "output_type": "stream",
     "text": [
      "780333111924\n"
     ]
    }
   ],
   "source": [
    "import random\n",
    "\n",
    "# Generate a 12-digit random integer\n",
    "random_integer = random.randint(10**11, 10**12 - 1)\n",
    "print(random_integer)\n"
   ]
  },
  {
   "cell_type": "code",
   "execution_count": null,
   "metadata": {},
   "outputs": [
    {
     "name": "stdout",
     "output_type": "stream",
     "text": [
      "New York City is a vibrant and diverse destination with countless options for entertainment, culture, and adventure. Here are the top 3 things to do in New York:\n",
      "\n",
      "1. **Visit the Statue of Liberty and Ellis Island**: Take a ferry to Liberty Island to see the iconic Statue of Liberty up close. You can also visit the Ellis Island Immigration Museum to learn about the history of immigration in the United States. This is a must-do experience that offers breathtaking views of the Manhattan skyline.\n",
      "\n",
      "2. **Explore the Metropolitan Museum of Art**: The Met, as it's commonly known, is one of the world's largest and most famous museums. With a collection that spans over 5,000 years of human history, you can see everything from ancient Egyptian artifacts to modern and contemporary art. The museum's grand architecture and beautiful gardens are also worth exploring.\n",
      "\n",
      "3. **Walk across the Brooklyn Bridge**: This iconic bridge offers stunning views of the Manhattan skyline, the East River, and Brooklyn. You can walk or bike across the bridge, which takes about 20-30 minutes. At the midpoint, you can stop at the Brooklyn Bridge Park for a picnic or to take in the views. This is a great way to experience the city's energy and beauty.\n",
      "\n",
      "Of course, there are many more things to do in New York, but these three experiences are a great starting point for your trip."
     ]
    }
   ],
   "source": [
    "from together import Together\n",
    "\n",
    "client = Together(api_key=\"debb3374ec1124bc4e52d5ff75fba20fd11c5b207fd9dc8c325a955e5459ca87\")\n",
    "\n",
    "stream = client.chat.completions.create(\n",
    "  model=\"meta-llama/Meta-Llama-3.1-8B-Instruct-Turbo\",\n",
    "  messages=[{\"role\": \"user\", \"content\": \"What are the top 3 things to do in New York?\"}],\n",
    "  stream=True,\n",
    ")\n",
    "\n",
    "\n",
    "for chunk in stream:\n",
    "  print(chunk.choices[0].delta.content or \"\", end=\"\", flush=True)\n"
   ]
  }
 ],
 "metadata": {
  "kernelspec": {
   "display_name": "myenv",
   "language": "python",
   "name": "python3"
  },
  "language_info": {
   "codemirror_mode": {
    "name": "ipython",
    "version": 3
   },
   "file_extension": ".py",
   "mimetype": "text/x-python",
   "name": "python",
   "nbconvert_exporter": "python",
   "pygments_lexer": "ipython3",
   "version": "3.12.3"
  }
 },
 "nbformat": 4,
 "nbformat_minor": 2
}
